{
 "cells": [
  {
   "cell_type": "code",
   "execution_count": 1,
   "id": "d6dff063",
   "metadata": {},
   "outputs": [],
   "source": [
    "import numpy as np \n",
    "import pandas as pd\n",
    "import seaborn as sns\n",
    "import os\n",
    "import cv2\n",
    "import matplotlib.pyplot as plt\n",
    "%matplotlib inline\n",
    "plt.rcParams[\"font.size\"] = 12"
   ]
  },
  {
   "cell_type": "markdown",
   "id": "6ecc7f9f",
   "metadata": {},
   "source": [
    "## Разделение данных по классам"
   ]
  },
  {
   "cell_type": "code",
   "execution_count": 2,
   "id": "e1828d82",
   "metadata": {},
   "outputs": [
    {
     "data": {
      "text/html": [
       "<div>\n",
       "<style scoped>\n",
       "    .dataframe tbody tr th:only-of-type {\n",
       "        vertical-align: middle;\n",
       "    }\n",
       "\n",
       "    .dataframe tbody tr th {\n",
       "        vertical-align: top;\n",
       "    }\n",
       "\n",
       "    .dataframe thead th {\n",
       "        text-align: right;\n",
       "    }\n",
       "</style>\n",
       "<table border=\"1\" class=\"dataframe\">\n",
       "  <thead>\n",
       "    <tr style=\"text-align: right;\">\n",
       "      <th></th>\n",
       "      <th>ImageId</th>\n",
       "      <th>ClassId</th>\n",
       "      <th>EncodedPixels</th>\n",
       "    </tr>\n",
       "  </thead>\n",
       "  <tbody>\n",
       "    <tr>\n",
       "      <th>0</th>\n",
       "      <td>0002cc93b.jpg</td>\n",
       "      <td>1</td>\n",
       "      <td>29102 12 29346 24 29602 24 29858 24 30114 24 3...</td>\n",
       "    </tr>\n",
       "    <tr>\n",
       "      <th>1</th>\n",
       "      <td>0007a71bf.jpg</td>\n",
       "      <td>3</td>\n",
       "      <td>18661 28 18863 82 19091 110 19347 110 19603 11...</td>\n",
       "    </tr>\n",
       "    <tr>\n",
       "      <th>2</th>\n",
       "      <td>000a4bcdd.jpg</td>\n",
       "      <td>1</td>\n",
       "      <td>37607 3 37858 8 38108 14 38359 20 38610 25 388...</td>\n",
       "    </tr>\n",
       "    <tr>\n",
       "      <th>3</th>\n",
       "      <td>000f6bf48.jpg</td>\n",
       "      <td>4</td>\n",
       "      <td>131973 1 132228 4 132483 6 132738 8 132993 11 ...</td>\n",
       "    </tr>\n",
       "    <tr>\n",
       "      <th>4</th>\n",
       "      <td>0014fce06.jpg</td>\n",
       "      <td>3</td>\n",
       "      <td>229501 11 229741 33 229981 55 230221 77 230468...</td>\n",
       "    </tr>\n",
       "  </tbody>\n",
       "</table>\n",
       "</div>"
      ],
      "text/plain": [
       "         ImageId  ClassId                                      EncodedPixels\n",
       "0  0002cc93b.jpg        1  29102 12 29346 24 29602 24 29858 24 30114 24 3...\n",
       "1  0007a71bf.jpg        3  18661 28 18863 82 19091 110 19347 110 19603 11...\n",
       "2  000a4bcdd.jpg        1  37607 3 37858 8 38108 14 38359 20 38610 25 388...\n",
       "3  000f6bf48.jpg        4  131973 1 132228 4 132483 6 132738 8 132993 11 ...\n",
       "4  0014fce06.jpg        3  229501 11 229741 33 229981 55 230221 77 230468..."
      ]
     },
     "execution_count": 2,
     "metadata": {},
     "output_type": "execute_result"
    }
   ],
   "source": [
    "imgfolder = '../../data/images'\n",
    "df = pd.read_csv('../../data/all.csv')\n",
    "df.head()"
   ]
  },
  {
   "cell_type": "code",
   "execution_count": 3,
   "id": "6bfb7ae6",
   "metadata": {},
   "outputs": [
    {
     "data": {
      "text/html": [
       "<div>\n",
       "<style scoped>\n",
       "    .dataframe tbody tr th:only-of-type {\n",
       "        vertical-align: middle;\n",
       "    }\n",
       "\n",
       "    .dataframe tbody tr th {\n",
       "        vertical-align: top;\n",
       "    }\n",
       "\n",
       "    .dataframe thead th {\n",
       "        text-align: right;\n",
       "    }\n",
       "</style>\n",
       "<table border=\"1\" class=\"dataframe\">\n",
       "  <thead>\n",
       "    <tr style=\"text-align: right;\">\n",
       "      <th></th>\n",
       "      <th>ClassId</th>\n",
       "      <th>EncodedPixels</th>\n",
       "    </tr>\n",
       "    <tr>\n",
       "      <th>ImageId</th>\n",
       "      <th></th>\n",
       "      <th></th>\n",
       "    </tr>\n",
       "  </thead>\n",
       "  <tbody>\n",
       "    <tr>\n",
       "      <th>0002cc93b.jpg</th>\n",
       "      <td>1</td>\n",
       "      <td>29102 12 29346 24 29602 24 29858 24 30114 24 3...</td>\n",
       "    </tr>\n",
       "    <tr>\n",
       "      <th>0007a71bf.jpg</th>\n",
       "      <td>3</td>\n",
       "      <td>18661 28 18863 82 19091 110 19347 110 19603 11...</td>\n",
       "    </tr>\n",
       "    <tr>\n",
       "      <th>000a4bcdd.jpg</th>\n",
       "      <td>1</td>\n",
       "      <td>37607 3 37858 8 38108 14 38359 20 38610 25 388...</td>\n",
       "    </tr>\n",
       "    <tr>\n",
       "      <th>000f6bf48.jpg</th>\n",
       "      <td>4</td>\n",
       "      <td>131973 1 132228 4 132483 6 132738 8 132993 11 ...</td>\n",
       "    </tr>\n",
       "    <tr>\n",
       "      <th>0014fce06.jpg</th>\n",
       "      <td>3</td>\n",
       "      <td>229501 11 229741 33 229981 55 230221 77 230468...</td>\n",
       "    </tr>\n",
       "    <tr>\n",
       "      <th>...</th>\n",
       "      <td>...</td>\n",
       "      <td>...</td>\n",
       "    </tr>\n",
       "    <tr>\n",
       "      <th>ffcf72ecf.jpg</th>\n",
       "      <td>3</td>\n",
       "      <td>121911 34 122167 101 122422 169 122678 203 122...</td>\n",
       "    </tr>\n",
       "    <tr>\n",
       "      <th>fff02e9c5.jpg</th>\n",
       "      <td>3</td>\n",
       "      <td>207523 3 207777 9 208030 15 208283 22 208537 2...</td>\n",
       "    </tr>\n",
       "    <tr>\n",
       "      <th>fffe98443.jpg</th>\n",
       "      <td>3</td>\n",
       "      <td>105929 5 106177 14 106424 24 106672 33 106923 ...</td>\n",
       "    </tr>\n",
       "    <tr>\n",
       "      <th>ffff4eaa8.jpg</th>\n",
       "      <td>3</td>\n",
       "      <td>16899 7 17155 20 17411 34 17667 47 17923 60 18...</td>\n",
       "    </tr>\n",
       "    <tr>\n",
       "      <th>ffffd67df.jpg</th>\n",
       "      <td>3</td>\n",
       "      <td>30931 43 31103 127 31275 211 31489 253 31745 2...</td>\n",
       "    </tr>\n",
       "  </tbody>\n",
       "</table>\n",
       "<p>6239 rows × 2 columns</p>\n",
       "</div>"
      ],
      "text/plain": [
       "               ClassId                                      EncodedPixels\n",
       "ImageId                                                                  \n",
       "0002cc93b.jpg        1  29102 12 29346 24 29602 24 29858 24 30114 24 3...\n",
       "0007a71bf.jpg        3  18661 28 18863 82 19091 110 19347 110 19603 11...\n",
       "000a4bcdd.jpg        1  37607 3 37858 8 38108 14 38359 20 38610 25 388...\n",
       "000f6bf48.jpg        4  131973 1 132228 4 132483 6 132738 8 132993 11 ...\n",
       "0014fce06.jpg        3  229501 11 229741 33 229981 55 230221 77 230468...\n",
       "...                ...                                                ...\n",
       "ffcf72ecf.jpg        3  121911 34 122167 101 122422 169 122678 203 122...\n",
       "fff02e9c5.jpg        3  207523 3 207777 9 208030 15 208283 22 208537 2...\n",
       "fffe98443.jpg        3  105929 5 106177 14 106424 24 106672 33 106923 ...\n",
       "ffff4eaa8.jpg        3  16899 7 17155 20 17411 34 17667 47 17923 60 18...\n",
       "ffffd67df.jpg        3  30931 43 31103 127 31275 211 31489 253 31745 2...\n",
       "\n",
       "[6239 rows x 2 columns]"
      ]
     },
     "execution_count": 3,
     "metadata": {},
     "output_type": "execute_result"
    }
   ],
   "source": [
    "#удаление изображений с несколькими дефектами\n",
    "df['ImageId'] = df['ImageId'].astype(str)\n",
    "df = df.drop_duplicates(subset='ImageId', keep=False)\n",
    "df = df.set_index('ImageId')\n",
    "df"
   ]
  },
  {
   "cell_type": "code",
   "execution_count": 4,
   "id": "3237aa15",
   "metadata": {},
   "outputs": [
    {
     "data": {
      "text/html": [
       "<div>\n",
       "<style scoped>\n",
       "    .dataframe tbody tr th:only-of-type {\n",
       "        vertical-align: middle;\n",
       "    }\n",
       "\n",
       "    .dataframe tbody tr th {\n",
       "        vertical-align: top;\n",
       "    }\n",
       "\n",
       "    .dataframe thead th {\n",
       "        text-align: right;\n",
       "    }\n",
       "</style>\n",
       "<table border=\"1\" class=\"dataframe\">\n",
       "  <thead>\n",
       "    <tr style=\"text-align: right;\">\n",
       "      <th></th>\n",
       "      <th>ClassId</th>\n",
       "      <th>img</th>\n",
       "    </tr>\n",
       "  </thead>\n",
       "  <tbody>\n",
       "    <tr>\n",
       "      <th>0002cc93b.jpg</th>\n",
       "      <td>1</td>\n",
       "      <td>0002cc93b.jpg</td>\n",
       "    </tr>\n",
       "    <tr>\n",
       "      <th>0007a71bf.jpg</th>\n",
       "      <td>3</td>\n",
       "      <td>0007a71bf.jpg</td>\n",
       "    </tr>\n",
       "    <tr>\n",
       "      <th>000a4bcdd.jpg</th>\n",
       "      <td>1</td>\n",
       "      <td>000a4bcdd.jpg</td>\n",
       "    </tr>\n",
       "    <tr>\n",
       "      <th>000f6bf48.jpg</th>\n",
       "      <td>4</td>\n",
       "      <td>000f6bf48.jpg</td>\n",
       "    </tr>\n",
       "    <tr>\n",
       "      <th>0014fce06.jpg</th>\n",
       "      <td>3</td>\n",
       "      <td>0014fce06.jpg</td>\n",
       "    </tr>\n",
       "    <tr>\n",
       "      <th>...</th>\n",
       "      <td>...</td>\n",
       "      <td>...</td>\n",
       "    </tr>\n",
       "    <tr>\n",
       "      <th>73d4dae19.jpg</th>\n",
       "      <td>0</td>\n",
       "      <td>73d4dae19.jpg</td>\n",
       "    </tr>\n",
       "    <tr>\n",
       "      <th>1c2a39896.jpg</th>\n",
       "      <td>0</td>\n",
       "      <td>1c2a39896.jpg</td>\n",
       "    </tr>\n",
       "    <tr>\n",
       "      <th>6ad48f01b.jpg</th>\n",
       "      <td>0</td>\n",
       "      <td>6ad48f01b.jpg</td>\n",
       "    </tr>\n",
       "    <tr>\n",
       "      <th>5b3910316.jpg</th>\n",
       "      <td>0</td>\n",
       "      <td>5b3910316.jpg</td>\n",
       "    </tr>\n",
       "    <tr>\n",
       "      <th>8b0b1eb8e.jpg</th>\n",
       "      <td>0</td>\n",
       "      <td>8b0b1eb8e.jpg</td>\n",
       "    </tr>\n",
       "  </tbody>\n",
       "</table>\n",
       "<p>12568 rows × 2 columns</p>\n",
       "</div>"
      ],
      "text/plain": [
       "               ClassId            img\n",
       "0002cc93b.jpg        1  0002cc93b.jpg\n",
       "0007a71bf.jpg        3  0007a71bf.jpg\n",
       "000a4bcdd.jpg        1  000a4bcdd.jpg\n",
       "000f6bf48.jpg        4  000f6bf48.jpg\n",
       "0014fce06.jpg        3  0014fce06.jpg\n",
       "...                ...            ...\n",
       "73d4dae19.jpg        0  73d4dae19.jpg\n",
       "1c2a39896.jpg        0  1c2a39896.jpg\n",
       "6ad48f01b.jpg        0  6ad48f01b.jpg\n",
       "5b3910316.jpg        0  5b3910316.jpg\n",
       "8b0b1eb8e.jpg        0  8b0b1eb8e.jpg\n",
       "\n",
       "[12568 rows x 2 columns]"
      ]
     },
     "execution_count": 4,
     "metadata": {},
     "output_type": "execute_result"
    }
   ],
   "source": [
    "#расширение таблицы для включения записей об изображениях без дефектов\n",
    "all_idx = os.listdir(imgfolder)\n",
    "current_idx = df.index.tolist()\n",
    "new_idx = list(set(all_idx)-set(current_idx))\n",
    "new_df = pd.DataFrame(index=new_idx, columns=['ClassId'])\n",
    "new_df['ClassId'] = 0\n",
    "df = pd.concat([df, new_df], axis=0)\n",
    "df = df.loc[:,:'ClassId']\n",
    "df['img'] = df.index\n",
    "df"
   ]
  },
  {
   "cell_type": "code",
   "execution_count": 5,
   "id": "35b413bb",
   "metadata": {},
   "outputs": [],
   "source": [
    "#подсчет статистик по дефектам\n",
    "def stat(df):\n",
    "    img_num = len(df)\n",
    "    defects_num = sum(df['ClassId'] > 0)\n",
    "    print('the number of images: {}'.format(img_num))\n",
    "    print('with no defects: {}'.format(img_num - defects_num))\n",
    "    print('with defects: {}\\n'.format(defects_num))\n",
    "    y = []\n",
    "    for i in range(5):\n",
    "        n = len(df[df['ClassId'] == i])\n",
    "        print('with {} defects class: {}'.format(i, n))\n",
    "        y.append(n)\n",
    "\n",
    "    fig, ax = plt.subplots()\n",
    "    sns.barplot(x=[0,1,2,3,4], y=y, ax=ax)\n",
    "    ax.set_title(\"the number of images for each class\")\n",
    "    ax.set_xlabel(\"class\");"
   ]
  },
  {
   "cell_type": "code",
   "execution_count": 6,
   "id": "360f3b15",
   "metadata": {},
   "outputs": [
    {
     "name": "stdout",
     "output_type": "stream",
     "text": [
      "the number of images: 12568\n",
      "with no defects: 6329\n",
      "with defects: 6239\n",
      "\n",
      "with 0 defects class: 6329\n",
      "with 1 defects class: 769\n",
      "with 2 defects class: 195\n",
      "with 3 defects class: 4759\n",
      "with 4 defects class: 516\n"
     ]
    },
    {
     "data": {
      "image/png": "[encoded data removed]",
      "text/plain": [
       "<Figure size 432x288 with 1 Axes>"
      ]
     },
     "metadata": {
      "needs_background": "light"
     },
     "output_type": "display_data"
    }
   ],
   "source": [
    "stat(df)"
   ]
  },
  {
   "cell_type": "code",
   "execution_count": 7,
   "id": "644a8420",
   "metadata": {},
   "outputs": [],
   "source": [
    "#разделение на train, val и test\n",
    "train = []\n",
    "val = []\n",
    "test = []\n",
    "repeat = [1, 6, 20, 1, 9]\n",
    "for i in range(5):\n",
    "    tmp_df = df[df['ClassId'] == i]\n",
    "    tmp_train, tmp_val, tmp_test = np.split(tmp_df.sample(frac=1), [int(.6*len(tmp_df)), int(.8*len(tmp_df))])\n",
    "    train.append(pd.DataFrame(np.repeat(tmp_train.to_numpy(), repeat[i], axis=0), columns=['ClassId','img']))\n",
    "    val.append(pd.DataFrame(np.repeat(tmp_val.to_numpy(), repeat[i], axis=0), columns=['ClassId','img']))\n",
    "    test.append(tmp_test)"
   ]
  },
  {
   "cell_type": "code",
   "execution_count": 8,
   "id": "9ff98c95",
   "metadata": {},
   "outputs": [
    {
     "name": "stdout",
     "output_type": "stream",
     "text": [
      "the number of images: 2515\n",
      "with no defects: 1266\n",
      "with defects: 1249\n",
      "\n",
      "with 0 defects class: 1266\n",
      "with 1 defects class: 154\n",
      "with 2 defects class: 39\n",
      "with 3 defects class: 952\n",
      "with 4 defects class: 104\n"
     ]
    },
    {
     "data": {
      "image/png": "[encoded data removed]",
      "text/plain": [
       "<Figure size 432x288 with 1 Axes>"
      ]
     },
     "metadata": {
      "needs_background": "light"
     },
     "output_type": "display_data"
    }
   ],
   "source": [
    "test_df = pd.concat(test, axis=0)\n",
    "test_df.reset_index()\n",
    "stat(test_df)\n",
    "test_df.to_csv('../../data/test.csv', index=False)"
   ]
  },
  {
   "cell_type": "code",
   "execution_count": 9,
   "id": "f58a05cd",
   "metadata": {},
   "outputs": [
    {
     "name": "stdout",
     "output_type": "stream",
     "text": [
      "the number of images: 14539\n",
      "with no defects: 3797\n",
      "with defects: 10742\n",
      "\n",
      "with 0 defects class: 3797\n",
      "with 1 defects class: 2766\n",
      "with 2 defects class: 2340\n",
      "with 3 defects class: 2855\n",
      "with 4 defects class: 2781\n"
     ]
    },
    {
     "data": {
      "image/png": "[encoded data removed]",
      "text/plain": [
       "<Figure size 432x288 with 1 Axes>"
      ]
     },
     "metadata": {
      "needs_background": "light"
     },
     "output_type": "display_data"
    }
   ],
   "source": [
    "train_df = pd.concat(train, axis=0)\n",
    "stat(train_df)\n",
    "train_df.to_csv('../../data/train.csv', index=False)"
   ]
  },
  {
   "cell_type": "code",
   "execution_count": 10,
   "id": "066637e2",
   "metadata": {},
   "outputs": [
    {
     "name": "stdout",
     "output_type": "stream",
     "text": [
      "the number of images: 4849\n",
      "with no defects: 1266\n",
      "with defects: 3583\n",
      "\n",
      "with 0 defects class: 1266\n",
      "with 1 defects class: 924\n",
      "with 2 defects class: 780\n",
      "with 3 defects class: 952\n",
      "with 4 defects class: 927\n"
     ]
    },
    {
     "data": {
      "image/png": "[encoded data removed]",
      "text/plain": [
       "<Figure size 432x288 with 1 Axes>"
      ]
     },
     "metadata": {
      "needs_background": "light"
     },
     "output_type": "display_data"
    }
   ],
   "source": [
    "val_df = pd.concat(val, axis=0)\n",
    "stat(val_df)\n",
    "val_df.to_csv('../../data/val.csv', index=False)"
   ]
  },
  {
   "cell_type": "code",
   "execution_count": 16,
   "id": "b0396111",
   "metadata": {},
   "outputs": [
    {
     "data": {
      "text/html": [
       "<div>\n",
       "<style scoped>\n",
       "    .dataframe tbody tr th:only-of-type {\n",
       "        vertical-align: middle;\n",
       "    }\n",
       "\n",
       "    .dataframe tbody tr th {\n",
       "        vertical-align: top;\n",
       "    }\n",
       "\n",
       "    .dataframe thead th {\n",
       "        text-align: right;\n",
       "    }\n",
       "</style>\n",
       "<table border=\"1\" class=\"dataframe\">\n",
       "  <thead>\n",
       "    <tr style=\"text-align: right;\">\n",
       "      <th></th>\n",
       "      <th>ClassId</th>\n",
       "      <th>img</th>\n",
       "    </tr>\n",
       "  </thead>\n",
       "  <tbody>\n",
       "    <tr>\n",
       "      <th>0</th>\n",
       "      <td>0</td>\n",
       "      <td>b5ad8fb0f.jpg</td>\n",
       "    </tr>\n",
       "    <tr>\n",
       "      <th>1</th>\n",
       "      <td>0</td>\n",
       "      <td>21318dbb2.jpg</td>\n",
       "    </tr>\n",
       "    <tr>\n",
       "      <th>2</th>\n",
       "      <td>0</td>\n",
       "      <td>afdf9c916.jpg</td>\n",
       "    </tr>\n",
       "    <tr>\n",
       "      <th>3</th>\n",
       "      <td>0</td>\n",
       "      <td>467ba206c.jpg</td>\n",
       "    </tr>\n",
       "    <tr>\n",
       "      <th>4</th>\n",
       "      <td>0</td>\n",
       "      <td>f4818a932.jpg</td>\n",
       "    </tr>\n",
       "  </tbody>\n",
       "</table>\n",
       "</div>"
      ],
      "text/plain": [
       "   ClassId            img\n",
       "0        0  b5ad8fb0f.jpg\n",
       "1        0  21318dbb2.jpg\n",
       "2        0  afdf9c916.jpg\n",
       "3        0  467ba206c.jpg\n",
       "4        0  f4818a932.jpg"
      ]
     },
     "execution_count": 16,
     "metadata": {},
     "output_type": "execute_result"
    }
   ],
   "source": [
    "df = pd.read_csv('../../data/train.csv')\n",
    "df.head()"
   ]
  }
 ],
 "metadata": {
  "kernelspec": {
   "display_name": "Python 3",
   "language": "python",
   "name": "python3"
  },
  "language_info": {
   "codemirror_mode": {
    "name": "ipython",
    "version": 3
   },
   "file_extension": ".py",
   "mimetype": "text/x-python",
   "name": "python",
   "nbconvert_exporter": "python",
   "pygments_lexer": "ipython3",
   "version": "3.8.10"
  }
 },
 "nbformat": 4,
 "nbformat_minor": 5
}
